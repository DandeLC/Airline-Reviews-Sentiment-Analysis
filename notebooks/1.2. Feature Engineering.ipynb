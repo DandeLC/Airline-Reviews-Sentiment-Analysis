{
 "cells": [
  {
   "cell_type": "markdown",
   "id": "b5168baf-91d9-4323-91fb-7e46974a93db",
   "metadata": {},
   "source": [
    "## Libraries"
   ]
  },
  {
   "cell_type": "code",
   "execution_count": 14,
   "id": "2307b8f4-231d-4d39-bb97-070b368ed32b",
   "metadata": {},
   "outputs": [],
   "source": [
    "import pandas as pd\n",
    "import numpy as np"
   ]
  },
  {
   "cell_type": "markdown",
   "id": "132f8e32-f7ab-4557-820c-e59693c6ef37",
   "metadata": {},
   "source": [
    "## Importing Data"
   ]
  },
  {
   "cell_type": "markdown",
   "id": "1e29e639-d298-4684-8206-d0c742eaa8c5",
   "metadata": {},
   "source": [
    "The cleaned dataset is stored in the 'data/interim' directory within this repository. The path has been included to run the code without further modifications."
   ]
  },
  {
   "cell_type": "code",
   "execution_count": 15,
   "id": "9fb2696a-5e83-45a6-a8ae-68c2c65694b8",
   "metadata": {},
   "outputs": [],
   "source": [
    "df_clean = pd.read_csv('../data/interim/cleaned_airlines.csv', index_col = 0)"
   ]
  },
  {
   "cell_type": "code",
   "execution_count": 16,
   "id": "d79ab722-4141-428f-bd88-e0f8f763061b",
   "metadata": {},
   "outputs": [
    {
     "data": {
      "text/html": [
       "<div>\n",
       "<style scoped>\n",
       "    .dataframe tbody tr th:only-of-type {\n",
       "        vertical-align: middle;\n",
       "    }\n",
       "\n",
       "    .dataframe tbody tr th {\n",
       "        vertical-align: top;\n",
       "    }\n",
       "\n",
       "    .dataframe thead th {\n",
       "        text-align: right;\n",
       "    }\n",
       "</style>\n",
       "<table border=\"1\" class=\"dataframe\">\n",
       "  <thead>\n",
       "    <tr style=\"text-align: right;\">\n",
       "      <th></th>\n",
       "      <th>Title</th>\n",
       "      <th>Name</th>\n",
       "      <th>Review Date</th>\n",
       "      <th>Airline</th>\n",
       "      <th>Verified</th>\n",
       "      <th>Reviews</th>\n",
       "      <th>Type of Traveller</th>\n",
       "      <th>Month Flown</th>\n",
       "      <th>Route</th>\n",
       "      <th>Class</th>\n",
       "      <th>Seat Comfort</th>\n",
       "      <th>Staff Service</th>\n",
       "      <th>Food &amp; Beverages</th>\n",
       "      <th>Inflight Entertainment</th>\n",
       "      <th>Value For Money</th>\n",
       "      <th>Overall Rating</th>\n",
       "      <th>Recommended</th>\n",
       "    </tr>\n",
       "  </thead>\n",
       "  <tbody>\n",
       "    <tr>\n",
       "      <th>0</th>\n",
       "      <td>Flight was amazing</td>\n",
       "      <td>Alison Soetantyo</td>\n",
       "      <td>2024-03-01</td>\n",
       "      <td>Singapore Airlines</td>\n",
       "      <td>1</td>\n",
       "      <td>Flight was amazing. The crew onboard this fl...</td>\n",
       "      <td>Solo Leisure</td>\n",
       "      <td>December 2023</td>\n",
       "      <td>Jakarta to Singapore</td>\n",
       "      <td>Business Class</td>\n",
       "      <td>4</td>\n",
       "      <td>4</td>\n",
       "      <td>4</td>\n",
       "      <td>4</td>\n",
       "      <td>4</td>\n",
       "      <td>9</td>\n",
       "      <td>1</td>\n",
       "    </tr>\n",
       "    <tr>\n",
       "      <th>1</th>\n",
       "      <td>seats on this aircraft are dreadful</td>\n",
       "      <td>Robert Watson</td>\n",
       "      <td>2024-02-21</td>\n",
       "      <td>Singapore Airlines</td>\n",
       "      <td>1</td>\n",
       "      <td>Booking an emergency exit seat still meant h...</td>\n",
       "      <td>Solo Leisure</td>\n",
       "      <td>February 2024</td>\n",
       "      <td>Phuket to Singapore</td>\n",
       "      <td>Economy Class</td>\n",
       "      <td>5</td>\n",
       "      <td>3</td>\n",
       "      <td>4</td>\n",
       "      <td>4</td>\n",
       "      <td>1</td>\n",
       "      <td>3</td>\n",
       "      <td>0</td>\n",
       "    </tr>\n",
       "    <tr>\n",
       "      <th>2</th>\n",
       "      <td>Food was plentiful and tasty</td>\n",
       "      <td>S Han</td>\n",
       "      <td>2024-02-20</td>\n",
       "      <td>Singapore Airlines</td>\n",
       "      <td>1</td>\n",
       "      <td>Excellent performance on all fronts. I would...</td>\n",
       "      <td>Family Leisure</td>\n",
       "      <td>February 2024</td>\n",
       "      <td>Siem Reap to Singapore</td>\n",
       "      <td>Economy Class</td>\n",
       "      <td>1</td>\n",
       "      <td>5</td>\n",
       "      <td>2</td>\n",
       "      <td>1</td>\n",
       "      <td>5</td>\n",
       "      <td>10</td>\n",
       "      <td>1</td>\n",
       "    </tr>\n",
       "    <tr>\n",
       "      <th>3</th>\n",
       "      <td>“how much food was available</td>\n",
       "      <td>D Laynes</td>\n",
       "      <td>2024-02-19</td>\n",
       "      <td>Singapore Airlines</td>\n",
       "      <td>1</td>\n",
       "      <td>Pretty comfortable flight considering I was f...</td>\n",
       "      <td>Solo Leisure</td>\n",
       "      <td>February 2024</td>\n",
       "      <td>Singapore to London Heathrow</td>\n",
       "      <td>Economy Class</td>\n",
       "      <td>5</td>\n",
       "      <td>5</td>\n",
       "      <td>5</td>\n",
       "      <td>5</td>\n",
       "      <td>5</td>\n",
       "      <td>10</td>\n",
       "      <td>1</td>\n",
       "    </tr>\n",
       "    <tr>\n",
       "      <th>4</th>\n",
       "      <td>“service was consistently good”</td>\n",
       "      <td>A Othman</td>\n",
       "      <td>2024-02-19</td>\n",
       "      <td>Singapore Airlines</td>\n",
       "      <td>1</td>\n",
       "      <td>The service was consistently good from start ...</td>\n",
       "      <td>Family Leisure</td>\n",
       "      <td>February 2024</td>\n",
       "      <td>Singapore to Phnom Penh</td>\n",
       "      <td>Economy Class</td>\n",
       "      <td>5</td>\n",
       "      <td>5</td>\n",
       "      <td>5</td>\n",
       "      <td>5</td>\n",
       "      <td>5</td>\n",
       "      <td>10</td>\n",
       "      <td>1</td>\n",
       "    </tr>\n",
       "  </tbody>\n",
       "</table>\n",
       "</div>"
      ],
      "text/plain": [
       "                                  Title              Name Review Date  \\\n",
       "0                    Flight was amazing  Alison Soetantyo  2024-03-01   \n",
       "1  seats on this aircraft are dreadful      Robert Watson  2024-02-21   \n",
       "2          Food was plentiful and tasty             S Han  2024-02-20   \n",
       "3          “how much food was available          D Laynes  2024-02-19   \n",
       "4       “service was consistently good”         A Othman   2024-02-19   \n",
       "\n",
       "              Airline  Verified  \\\n",
       "0  Singapore Airlines         1   \n",
       "1  Singapore Airlines         1   \n",
       "2  Singapore Airlines         1   \n",
       "3  Singapore Airlines         1   \n",
       "4  Singapore Airlines         1   \n",
       "\n",
       "                                             Reviews Type of Traveller  \\\n",
       "0    Flight was amazing. The crew onboard this fl...      Solo Leisure   \n",
       "1    Booking an emergency exit seat still meant h...      Solo Leisure   \n",
       "2    Excellent performance on all fronts. I would...    Family Leisure   \n",
       "3   Pretty comfortable flight considering I was f...      Solo Leisure   \n",
       "4   The service was consistently good from start ...    Family Leisure   \n",
       "\n",
       "     Month Flown                         Route           Class  Seat Comfort  \\\n",
       "0  December 2023          Jakarta to Singapore  Business Class             4   \n",
       "1  February 2024           Phuket to Singapore   Economy Class             5   \n",
       "2  February 2024        Siem Reap to Singapore   Economy Class             1   \n",
       "3  February 2024  Singapore to London Heathrow   Economy Class             5   \n",
       "4  February 2024       Singapore to Phnom Penh   Economy Class             5   \n",
       "\n",
       "   Staff Service  Food & Beverages  Inflight Entertainment  Value For Money  \\\n",
       "0              4                 4                       4                4   \n",
       "1              3                 4                       4                1   \n",
       "2              5                 2                       1                5   \n",
       "3              5                 5                       5                5   \n",
       "4              5                 5                       5                5   \n",
       "\n",
       "   Overall Rating  Recommended  \n",
       "0               9            1  \n",
       "1               3            0  \n",
       "2              10            1  \n",
       "3              10            1  \n",
       "4              10            1  "
      ]
     },
     "execution_count": 16,
     "metadata": {},
     "output_type": "execute_result"
    }
   ],
   "source": [
    "df_clean.head()"
   ]
  },
  {
   "cell_type": "markdown",
   "id": "77c69bc4-057c-4abe-ad2d-7712a319f028",
   "metadata": {},
   "source": [
    "## Feature Engineering"
   ]
  },
  {
   "cell_type": "markdown",
   "id": "2b8c82c8-61b8-4232-a856-5fd166917e91",
   "metadata": {},
   "source": [
    "Create new features out of the existing data that could add value to the analysis."
   ]
  },
  {
   "cell_type": "markdown",
   "id": "88d5459b-57d3-4470-b0f3-0a9c08f022c7",
   "metadata": {},
   "source": [
    "### Frequent Reviewer"
   ]
  },
  {
   "cell_type": "markdown",
   "id": "7218c30d-0364-4d92-a7f2-ed81aaaf64e4",
   "metadata": {},
   "source": [
    "Split the reviewers in four categories based on the amount of verified reviews left. The categories correspond to common airline frequent flyers programs:\n",
    "\n",
    "- 0 (Non frequent or Blue tier) - Customer left only 1 or 0 verified reviews \n",
    "- 1 (Silver Tier)               - Between 2 and 5 verified reviews\n",
    "- 2 (Gold Tier)                 - Between 6 and 15 verified reviews\n",
    "- 3 (Platinum Tier)             - Over 15 verified reviews"
   ]
  },
  {
   "cell_type": "code",
   "execution_count": 17,
   "id": "17401707-e868-466a-aa45-089b41c7cdcc",
   "metadata": {},
   "outputs": [
    {
     "data": {
      "text/plain": [
       "Frequent Reviewer\n",
       "0    6298\n",
       "1    1214\n",
       "2     383\n",
       "3     205\n",
       "Name: count, dtype: int64"
      ]
     },
     "execution_count": 17,
     "metadata": {},
     "output_type": "execute_result"
    }
   ],
   "source": [
    "# Filter verified reviews\n",
    "verified_reviews = df_clean[df_clean['Verified'] == True]\n",
    "\n",
    "# Count occurrences of each name in the filtered DataFrame\n",
    "verified_name_counts = verified_reviews['Name'].value_counts()\n",
    "\n",
    "# Categorization function\n",
    "def categorize_verified_reviews(count):\n",
    "    if count == 1:\n",
    "        return 0  # Not a frequent reviewer or Blue Tier\n",
    "    elif 2 <= count <= 5:\n",
    "        return 1  # Silver Tier\n",
    "    elif 6 <= count <= 15:\n",
    "        return 2  # Gold Tier\n",
    "    else:\n",
    "        return 3  # Platinum Tier\n",
    "\n",
    "# Create the new feature\n",
    "df_clean['Frequent Reviewer'] = df_clean['Name'].map(verified_name_counts).apply(lambda x: categorize_verified_reviews(x) if pd.notnull(x) else 0)\n",
    "\n",
    "# Drop the Name column\n",
    "df_clean = df_clean.drop(['Name'],axis=1)\n",
    "\n",
    "# Check distribution of the new feature\n",
    "df_clean['Frequent Reviewer'].value_counts()"
   ]
  },
  {
   "cell_type": "markdown",
   "id": "6bdc2ce9-4c2f-4266-a617-4fe977a80db6",
   "metadata": {},
   "source": [
    "The distribution of Frequent Reviewers represents approximately the average distribution of Frequent Flyers on a normal flight."
   ]
  },
  {
   "cell_type": "markdown",
   "id": "fa8783ad-0b8c-443e-85aa-7edd676c0aad",
   "metadata": {},
   "source": [
    "### Flight Month and Flight Year"
   ]
  },
  {
   "cell_type": "markdown",
   "id": "3a986425-ec4e-40a7-9860-8d887c24dd55",
   "metadata": {},
   "source": [
    "Flight Month: This feature can capture seasonal trends, such as differences in travel amount or moods during holiday seasons or off-peak times.\r\n",
    "\n",
    "Flight Year: This feature can help identify trends over the years and account for significant events like the COVID-19 pandemic, which had a major impact on travel patterns\r\n"
   ]
  },
  {
   "cell_type": "code",
   "execution_count": 18,
   "id": "6a1fd655-3ccf-4c47-a093-cbf534c4a5b3",
   "metadata": {},
   "outputs": [],
   "source": [
    "# Split 'Month Flown' into 'Flight Month' and 'Flight Year'\n",
    "df_clean[['Flight Month', 'Flight Year']] = df_clean['Month Flown'].str.split(' ', expand=True)\n",
    "\n",
    "# Convert to appropriate types\n",
    "df_clean['Flight Year'] = df_clean['Flight Year'].astype(int)\n",
    "df_clean['Flight Month'] = pd.to_datetime(df_clean['Flight Month'], format='%B').dt.month"
   ]
  },
  {
   "cell_type": "code",
   "execution_count": 21,
   "id": "6540c29e-eb76-4ed0-af45-d3737a959994",
   "metadata": {},
   "outputs": [
    {
     "data": {
      "text/html": [
       "<div>\n",
       "<style scoped>\n",
       "    .dataframe tbody tr th:only-of-type {\n",
       "        vertical-align: middle;\n",
       "    }\n",
       "\n",
       "    .dataframe tbody tr th {\n",
       "        vertical-align: top;\n",
       "    }\n",
       "\n",
       "    .dataframe thead th {\n",
       "        text-align: right;\n",
       "    }\n",
       "</style>\n",
       "<table border=\"1\" class=\"dataframe\">\n",
       "  <thead>\n",
       "    <tr style=\"text-align: right;\">\n",
       "      <th></th>\n",
       "      <th>Month Flown</th>\n",
       "      <th>Flight Year</th>\n",
       "      <th>Flight Month</th>\n",
       "    </tr>\n",
       "  </thead>\n",
       "  <tbody>\n",
       "    <tr>\n",
       "      <th>0</th>\n",
       "      <td>December 2023</td>\n",
       "      <td>2023</td>\n",
       "      <td>12</td>\n",
       "    </tr>\n",
       "    <tr>\n",
       "      <th>1</th>\n",
       "      <td>February 2024</td>\n",
       "      <td>2024</td>\n",
       "      <td>2</td>\n",
       "    </tr>\n",
       "    <tr>\n",
       "      <th>2</th>\n",
       "      <td>February 2024</td>\n",
       "      <td>2024</td>\n",
       "      <td>2</td>\n",
       "    </tr>\n",
       "    <tr>\n",
       "      <th>3</th>\n",
       "      <td>February 2024</td>\n",
       "      <td>2024</td>\n",
       "      <td>2</td>\n",
       "    </tr>\n",
       "    <tr>\n",
       "      <th>4</th>\n",
       "      <td>February 2024</td>\n",
       "      <td>2024</td>\n",
       "      <td>2</td>\n",
       "    </tr>\n",
       "  </tbody>\n",
       "</table>\n",
       "</div>"
      ],
      "text/plain": [
       "     Month Flown  Flight Year  Flight Month\n",
       "0  December 2023         2023            12\n",
       "1  February 2024         2024             2\n",
       "2  February 2024         2024             2\n",
       "3  February 2024         2024             2\n",
       "4  February 2024         2024             2"
      ]
     },
     "execution_count": 21,
     "metadata": {},
     "output_type": "execute_result"
    }
   ],
   "source": [
    "# Verify correct split\n",
    "df_clean[['Month Flown', 'Flight Year','Flight Month']].head()"
   ]
  },
  {
   "cell_type": "code",
   "execution_count": null,
   "id": "b7872609-5547-4237-ba74-2e3569110e39",
   "metadata": {},
   "outputs": [],
   "source": [
    "# Drop the original 'Month Flown' column\n",
    "df_clean = df_clean.drop(['Month Flown'],axis=1)"
   ]
  },
  {
   "cell_type": "markdown",
   "id": "b019800d-8b21-46e3-9f41-0dc11adb9ecd",
   "metadata": {},
   "source": [
    "### Quick Review"
   ]
  },
  {
   "cell_type": "markdown",
   "id": "5d0289ee-9069-47cb-add5-6862f0af9b51",
   "metadata": {},
   "source": [
    "Check if the review was written soon after the flight was done. It could be useful for understanding if more immediate reviews correlate with higher or lower ratings. Cconsider as ‘quick review’ thoss that were left the same mont and yearh as the flight was done\n",
    "\n",
    "Limitations:\n",
    "Dataset contains no information about the flight day. Considering a month as the time frame, reviews could potentially be innacurately classified leading to inaccuracies and biasing the analysis.\n",
    "\n",
    "The feature could still provide some insights, while keeping in mind the potential bias.. \r\n"
   ]
  },
  {
   "cell_type": "code",
   "execution_count": 8,
   "id": "4d30540f-1584-49c3-bb90-8c5195292028",
   "metadata": {},
   "outputs": [],
   "source": [
    "# Extracting the month and year of the review\n",
    "df_clean['Review Date'] = pd.to_datetime(df_clean['Review Date'])\n",
    "df_clean['Review Year'] = df_clean['Review Date'].dt.year\n",
    "df_clean['Review Month'] = df_clean['Review Date'].dt.month"
   ]
  },
  {
   "cell_type": "code",
   "execution_count": 9,
   "id": "070e2498-f2b9-4a08-b5d6-d76540a5cba0",
   "metadata": {},
   "outputs": [
    {
     "data": {
      "text/plain": [
       "Quick Review\n",
       "True     5005\n",
       "False    3095\n",
       "Name: count, dtype: int64"
      ]
     },
     "execution_count": 9,
     "metadata": {},
     "output_type": "execute_result"
    }
   ],
   "source": [
    "# Creating the new column 'Quick Review'\n",
    "df_clean['Quick Review'] = (df_clean['Review Year'] == df_clean['Flight Year']) & (df_clean['Review Month'] == df_clean['Flight Month'])\n",
    "\n",
    "# Dropping the temporary columns\n",
    "df_clean=df_clean.drop(['Review Year'],axis=1)\n",
    "df_clean=df_clean.drop(['Review Month'],axis=1)\n",
    "\n",
    "# Checking the new columns\n",
    "df_clean['Quick Review'].value_counts()"
   ]
  },
  {
   "cell_type": "markdown",
   "id": "0cd38df8-9da0-41f8-ab6e-fb11255aad25",
   "metadata": {},
   "source": [
    "## Reorganizing Columns"
   ]
  },
  {
   "cell_type": "code",
   "execution_count": 10,
   "id": "deb28488-ffd8-4c86-bf3a-e42d30850d4b",
   "metadata": {},
   "outputs": [
    {
     "data": {
      "text/plain": [
       "Index(['Title', 'Review Date', 'Airline', 'Verified', 'Reviews',\n",
       "       'Type of Traveller', 'Route', 'Class', 'Seat Comfort', 'Staff Service',\n",
       "       'Food & Beverages', 'Inflight Entertainment', 'Value For Money',\n",
       "       'Overall Rating', 'Recommended', 'Frequent Reviewer', 'Flight Month',\n",
       "       'Flight Year', 'Quick Review'],\n",
       "      dtype='object')"
      ]
     },
     "execution_count": 10,
     "metadata": {},
     "output_type": "execute_result"
    }
   ],
   "source": [
    "df_clean.columns"
   ]
  },
  {
   "cell_type": "code",
   "execution_count": 11,
   "id": "7179bba0-76e1-41ab-b6b6-d7b14cb28508",
   "metadata": {},
   "outputs": [],
   "source": [
    "columns_reordered = ['Title', 'Reviews','Frequent Reviewer', 'Verified', 'Airline', 'Class','Type of Traveller', \n",
    "                    'Route','Review Date','Flight Year', 'Flight Month', 'Quick Review', 'Seat Comfort',\n",
    "                    'Staff Service', 'Food & Beverages', 'Inflight Entertainment',\n",
    "                    'Value For Money', 'Overall Rating', 'Recommended']\n",
    "\n",
    "df_clean =df_clean[columns_reordered]"
   ]
  },
  {
   "cell_type": "code",
   "execution_count": 13,
   "id": "bb876117-0bdb-4a18-85c6-96238f0c214d",
   "metadata": {},
   "outputs": [
    {
     "data": {
      "text/html": [
       "<div>\n",
       "<style scoped>\n",
       "    .dataframe tbody tr th:only-of-type {\n",
       "        vertical-align: middle;\n",
       "    }\n",
       "\n",
       "    .dataframe tbody tr th {\n",
       "        vertical-align: top;\n",
       "    }\n",
       "\n",
       "    .dataframe thead th {\n",
       "        text-align: right;\n",
       "    }\n",
       "</style>\n",
       "<table border=\"1\" class=\"dataframe\">\n",
       "  <thead>\n",
       "    <tr style=\"text-align: right;\">\n",
       "      <th></th>\n",
       "      <th>Title</th>\n",
       "      <th>Reviews</th>\n",
       "      <th>Frequent Reviewer</th>\n",
       "      <th>Verified</th>\n",
       "      <th>Airline</th>\n",
       "      <th>Class</th>\n",
       "      <th>Type of Traveller</th>\n",
       "      <th>Route</th>\n",
       "      <th>Review Date</th>\n",
       "      <th>Flight Year</th>\n",
       "      <th>Flight Month</th>\n",
       "      <th>Quick Review</th>\n",
       "      <th>Seat Comfort</th>\n",
       "      <th>Staff Service</th>\n",
       "      <th>Food &amp; Beverages</th>\n",
       "      <th>Inflight Entertainment</th>\n",
       "      <th>Value For Money</th>\n",
       "      <th>Overall Rating</th>\n",
       "      <th>Recommended</th>\n",
       "    </tr>\n",
       "  </thead>\n",
       "  <tbody>\n",
       "    <tr>\n",
       "      <th>0</th>\n",
       "      <td>Flight was amazing</td>\n",
       "      <td>Flight was amazing. The crew onboard this fl...</td>\n",
       "      <td>0</td>\n",
       "      <td>1</td>\n",
       "      <td>Singapore Airlines</td>\n",
       "      <td>Business Class</td>\n",
       "      <td>Solo Leisure</td>\n",
       "      <td>Jakarta to Singapore</td>\n",
       "      <td>2024-03-01</td>\n",
       "      <td>2023</td>\n",
       "      <td>12</td>\n",
       "      <td>False</td>\n",
       "      <td>4</td>\n",
       "      <td>4</td>\n",
       "      <td>4</td>\n",
       "      <td>4</td>\n",
       "      <td>4</td>\n",
       "      <td>9</td>\n",
       "      <td>1</td>\n",
       "    </tr>\n",
       "    <tr>\n",
       "      <th>1</th>\n",
       "      <td>seats on this aircraft are dreadful</td>\n",
       "      <td>Booking an emergency exit seat still meant h...</td>\n",
       "      <td>1</td>\n",
       "      <td>1</td>\n",
       "      <td>Singapore Airlines</td>\n",
       "      <td>Economy Class</td>\n",
       "      <td>Solo Leisure</td>\n",
       "      <td>Phuket to Singapore</td>\n",
       "      <td>2024-02-21</td>\n",
       "      <td>2024</td>\n",
       "      <td>2</td>\n",
       "      <td>True</td>\n",
       "      <td>5</td>\n",
       "      <td>3</td>\n",
       "      <td>4</td>\n",
       "      <td>4</td>\n",
       "      <td>1</td>\n",
       "      <td>3</td>\n",
       "      <td>0</td>\n",
       "    </tr>\n",
       "    <tr>\n",
       "      <th>2</th>\n",
       "      <td>Food was plentiful and tasty</td>\n",
       "      <td>Excellent performance on all fronts. I would...</td>\n",
       "      <td>2</td>\n",
       "      <td>1</td>\n",
       "      <td>Singapore Airlines</td>\n",
       "      <td>Economy Class</td>\n",
       "      <td>Family Leisure</td>\n",
       "      <td>Siem Reap to Singapore</td>\n",
       "      <td>2024-02-20</td>\n",
       "      <td>2024</td>\n",
       "      <td>2</td>\n",
       "      <td>True</td>\n",
       "      <td>1</td>\n",
       "      <td>5</td>\n",
       "      <td>2</td>\n",
       "      <td>1</td>\n",
       "      <td>5</td>\n",
       "      <td>10</td>\n",
       "      <td>1</td>\n",
       "    </tr>\n",
       "    <tr>\n",
       "      <th>3</th>\n",
       "      <td>“how much food was available</td>\n",
       "      <td>Pretty comfortable flight considering I was f...</td>\n",
       "      <td>0</td>\n",
       "      <td>1</td>\n",
       "      <td>Singapore Airlines</td>\n",
       "      <td>Economy Class</td>\n",
       "      <td>Solo Leisure</td>\n",
       "      <td>Singapore to London Heathrow</td>\n",
       "      <td>2024-02-19</td>\n",
       "      <td>2024</td>\n",
       "      <td>2</td>\n",
       "      <td>True</td>\n",
       "      <td>5</td>\n",
       "      <td>5</td>\n",
       "      <td>5</td>\n",
       "      <td>5</td>\n",
       "      <td>5</td>\n",
       "      <td>10</td>\n",
       "      <td>1</td>\n",
       "    </tr>\n",
       "    <tr>\n",
       "      <th>4</th>\n",
       "      <td>“service was consistently good”</td>\n",
       "      <td>The service was consistently good from start ...</td>\n",
       "      <td>0</td>\n",
       "      <td>1</td>\n",
       "      <td>Singapore Airlines</td>\n",
       "      <td>Economy Class</td>\n",
       "      <td>Family Leisure</td>\n",
       "      <td>Singapore to Phnom Penh</td>\n",
       "      <td>2024-02-19</td>\n",
       "      <td>2024</td>\n",
       "      <td>2</td>\n",
       "      <td>True</td>\n",
       "      <td>5</td>\n",
       "      <td>5</td>\n",
       "      <td>5</td>\n",
       "      <td>5</td>\n",
       "      <td>5</td>\n",
       "      <td>10</td>\n",
       "      <td>1</td>\n",
       "    </tr>\n",
       "  </tbody>\n",
       "</table>\n",
       "</div>"
      ],
      "text/plain": [
       "                                  Title  \\\n",
       "0                    Flight was amazing   \n",
       "1  seats on this aircraft are dreadful    \n",
       "2          Food was plentiful and tasty   \n",
       "3          “how much food was available   \n",
       "4       “service was consistently good”   \n",
       "\n",
       "                                             Reviews  Frequent Reviewer  \\\n",
       "0    Flight was amazing. The crew onboard this fl...                  0   \n",
       "1    Booking an emergency exit seat still meant h...                  1   \n",
       "2    Excellent performance on all fronts. I would...                  2   \n",
       "3   Pretty comfortable flight considering I was f...                  0   \n",
       "4   The service was consistently good from start ...                  0   \n",
       "\n",
       "   Verified             Airline           Class Type of Traveller  \\\n",
       "0         1  Singapore Airlines  Business Class      Solo Leisure   \n",
       "1         1  Singapore Airlines   Economy Class      Solo Leisure   \n",
       "2         1  Singapore Airlines   Economy Class    Family Leisure   \n",
       "3         1  Singapore Airlines   Economy Class      Solo Leisure   \n",
       "4         1  Singapore Airlines   Economy Class    Family Leisure   \n",
       "\n",
       "                          Route Review Date  Flight Year  Flight Month  \\\n",
       "0          Jakarta to Singapore  2024-03-01         2023            12   \n",
       "1           Phuket to Singapore  2024-02-21         2024             2   \n",
       "2        Siem Reap to Singapore  2024-02-20         2024             2   \n",
       "3  Singapore to London Heathrow  2024-02-19         2024             2   \n",
       "4       Singapore to Phnom Penh  2024-02-19         2024             2   \n",
       "\n",
       "   Quick Review  Seat Comfort  Staff Service  Food & Beverages  \\\n",
       "0         False             4              4                 4   \n",
       "1          True             5              3                 4   \n",
       "2          True             1              5                 2   \n",
       "3          True             5              5                 5   \n",
       "4          True             5              5                 5   \n",
       "\n",
       "   Inflight Entertainment  Value For Money  Overall Rating  Recommended  \n",
       "0                       4                4               9            1  \n",
       "1                       4                1               3            0  \n",
       "2                       1                5              10            1  \n",
       "3                       5                5              10            1  \n",
       "4                       5                5              10            1  "
      ]
     },
     "execution_count": 13,
     "metadata": {},
     "output_type": "execute_result"
    }
   ],
   "source": [
    "df_clean.head()"
   ]
  },
  {
   "cell_type": "markdown",
   "id": "fcebf417-d990-4208-912c-5c102ff6ee9a",
   "metadata": {},
   "source": [
    "The dataset is saved as 'feature_airlines.csv' and stored in the 'data/interim' directory within this repository. Notebooks using that dataset contain right paths to load them."
   ]
  }
 ],
 "metadata": {
  "kernelspec": {
   "display_name": "Python 3 (ipykernel)",
   "language": "python",
   "name": "python3"
  },
  "language_info": {
   "codemirror_mode": {
    "name": "ipython",
    "version": 3
   },
   "file_extension": ".py",
   "mimetype": "text/x-python",
   "name": "python",
   "nbconvert_exporter": "python",
   "pygments_lexer": "ipython3",
   "version": "3.11.7"
  }
 },
 "nbformat": 4,
 "nbformat_minor": 5
}
