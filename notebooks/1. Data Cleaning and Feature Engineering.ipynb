{
 "cells": [
  {
   "cell_type": "markdown",
   "id": "b7d52d61-2538-4cb2-aca7-6c6752f20c37",
   "metadata": {},
   "source": [
    "## Libraries"
   ]
  },
  {
   "cell_type": "code",
   "execution_count": 1,
   "id": "82ee3c01-9478-464d-83a3-35d12a0082b4",
   "metadata": {},
   "outputs": [],
   "source": [
    "import pandas as pd # Data Maniputation"
   ]
  },
  {
   "cell_type": "markdown",
   "id": "e3f8e5d9-b8c9-43c7-acd6-6ff32bb9d559",
   "metadata": {},
   "source": [
    "## Importing Data"
   ]
  },
  {
   "cell_type": "markdown",
   "id": "650eb1bf-e657-4a69-bfb8-9b0d7adae107",
   "metadata": {},
   "source": [
    "The original dataset is stored in the 'data/external' directory within this repository. The path has been included to run the code without further modifications."
   ]
  },
  {
   "cell_type": "code",
   "execution_count": 2,
   "id": "299b61f7-6a5e-4a6d-894d-be6e3d52d6b4",
   "metadata": {},
   "outputs": [],
   "source": [
    "df = pd.read_csv('../data/external/airlines_reviews.csv')"
   ]
  },
  {
   "cell_type": "code",
   "execution_count": 3,
   "id": "7f4e84f6-ebfc-4306-bfce-0eb087a43381",
   "metadata": {},
   "outputs": [
    {
     "data": {
      "text/html": [
       "<div>\n",
       "<style scoped>\n",
       "    .dataframe tbody tr th:only-of-type {\n",
       "        vertical-align: middle;\n",
       "    }\n",
       "\n",
       "    .dataframe tbody tr th {\n",
       "        vertical-align: top;\n",
       "    }\n",
       "\n",
       "    .dataframe thead th {\n",
       "        text-align: right;\n",
       "    }\n",
       "</style>\n",
       "<table border=\"1\" class=\"dataframe\">\n",
       "  <thead>\n",
       "    <tr style=\"text-align: right;\">\n",
       "      <th></th>\n",
       "      <th>Title</th>\n",
       "      <th>Name</th>\n",
       "      <th>Review Date</th>\n",
       "      <th>Airline</th>\n",
       "      <th>Verified</th>\n",
       "      <th>Reviews</th>\n",
       "      <th>Type of Traveller</th>\n",
       "      <th>Month Flown</th>\n",
       "      <th>Route</th>\n",
       "      <th>Class</th>\n",
       "      <th>Seat Comfort</th>\n",
       "      <th>Staff Service</th>\n",
       "      <th>Food &amp; Beverages</th>\n",
       "      <th>Inflight Entertainment</th>\n",
       "      <th>Value For Money</th>\n",
       "      <th>Overall Rating</th>\n",
       "      <th>Recommended</th>\n",
       "    </tr>\n",
       "  </thead>\n",
       "  <tbody>\n",
       "    <tr>\n",
       "      <th>0</th>\n",
       "      <td>Flight was amazing</td>\n",
       "      <td>Alison Soetantyo</td>\n",
       "      <td>2024-03-01</td>\n",
       "      <td>Singapore Airlines</td>\n",
       "      <td>True</td>\n",
       "      <td>Flight was amazing. The crew onboard this fl...</td>\n",
       "      <td>Solo Leisure</td>\n",
       "      <td>December 2023</td>\n",
       "      <td>Jakarta to Singapore</td>\n",
       "      <td>Business Class</td>\n",
       "      <td>4</td>\n",
       "      <td>4</td>\n",
       "      <td>4</td>\n",
       "      <td>4</td>\n",
       "      <td>4</td>\n",
       "      <td>9</td>\n",
       "      <td>yes</td>\n",
       "    </tr>\n",
       "    <tr>\n",
       "      <th>1</th>\n",
       "      <td>seats on this aircraft are dreadful</td>\n",
       "      <td>Robert Watson</td>\n",
       "      <td>2024-02-21</td>\n",
       "      <td>Singapore Airlines</td>\n",
       "      <td>True</td>\n",
       "      <td>Booking an emergency exit seat still meant h...</td>\n",
       "      <td>Solo Leisure</td>\n",
       "      <td>February 2024</td>\n",
       "      <td>Phuket to Singapore</td>\n",
       "      <td>Economy Class</td>\n",
       "      <td>5</td>\n",
       "      <td>3</td>\n",
       "      <td>4</td>\n",
       "      <td>4</td>\n",
       "      <td>1</td>\n",
       "      <td>3</td>\n",
       "      <td>no</td>\n",
       "    </tr>\n",
       "    <tr>\n",
       "      <th>2</th>\n",
       "      <td>Food was plentiful and tasty</td>\n",
       "      <td>S Han</td>\n",
       "      <td>2024-02-20</td>\n",
       "      <td>Singapore Airlines</td>\n",
       "      <td>True</td>\n",
       "      <td>Excellent performance on all fronts. I would...</td>\n",
       "      <td>Family Leisure</td>\n",
       "      <td>February 2024</td>\n",
       "      <td>Siem Reap to Singapore</td>\n",
       "      <td>Economy Class</td>\n",
       "      <td>1</td>\n",
       "      <td>5</td>\n",
       "      <td>2</td>\n",
       "      <td>1</td>\n",
       "      <td>5</td>\n",
       "      <td>10</td>\n",
       "      <td>yes</td>\n",
       "    </tr>\n",
       "    <tr>\n",
       "      <th>3</th>\n",
       "      <td>“how much food was available</td>\n",
       "      <td>D Laynes</td>\n",
       "      <td>2024-02-19</td>\n",
       "      <td>Singapore Airlines</td>\n",
       "      <td>True</td>\n",
       "      <td>Pretty comfortable flight considering I was f...</td>\n",
       "      <td>Solo Leisure</td>\n",
       "      <td>February 2024</td>\n",
       "      <td>Singapore to London Heathrow</td>\n",
       "      <td>Economy Class</td>\n",
       "      <td>5</td>\n",
       "      <td>5</td>\n",
       "      <td>5</td>\n",
       "      <td>5</td>\n",
       "      <td>5</td>\n",
       "      <td>10</td>\n",
       "      <td>yes</td>\n",
       "    </tr>\n",
       "    <tr>\n",
       "      <th>4</th>\n",
       "      <td>“service was consistently good”</td>\n",
       "      <td>A Othman</td>\n",
       "      <td>2024-02-19</td>\n",
       "      <td>Singapore Airlines</td>\n",
       "      <td>True</td>\n",
       "      <td>The service was consistently good from start ...</td>\n",
       "      <td>Family Leisure</td>\n",
       "      <td>February 2024</td>\n",
       "      <td>Singapore to Phnom Penh</td>\n",
       "      <td>Economy Class</td>\n",
       "      <td>5</td>\n",
       "      <td>5</td>\n",
       "      <td>5</td>\n",
       "      <td>5</td>\n",
       "      <td>5</td>\n",
       "      <td>10</td>\n",
       "      <td>yes</td>\n",
       "    </tr>\n",
       "  </tbody>\n",
       "</table>\n",
       "</div>"
      ],
      "text/plain": [
       "                                  Title              Name Review Date  \\\n",
       "0                    Flight was amazing  Alison Soetantyo  2024-03-01   \n",
       "1  seats on this aircraft are dreadful      Robert Watson  2024-02-21   \n",
       "2          Food was plentiful and tasty             S Han  2024-02-20   \n",
       "3          “how much food was available          D Laynes  2024-02-19   \n",
       "4       “service was consistently good”         A Othman   2024-02-19   \n",
       "\n",
       "              Airline Verified  \\\n",
       "0  Singapore Airlines     True   \n",
       "1  Singapore Airlines     True   \n",
       "2  Singapore Airlines     True   \n",
       "3  Singapore Airlines     True   \n",
       "4  Singapore Airlines     True   \n",
       "\n",
       "                                             Reviews Type of Traveller  \\\n",
       "0    Flight was amazing. The crew onboard this fl...      Solo Leisure   \n",
       "1    Booking an emergency exit seat still meant h...      Solo Leisure   \n",
       "2    Excellent performance on all fronts. I would...    Family Leisure   \n",
       "3   Pretty comfortable flight considering I was f...      Solo Leisure   \n",
       "4   The service was consistently good from start ...    Family Leisure   \n",
       "\n",
       "     Month Flown                         Route           Class  Seat Comfort  \\\n",
       "0  December 2023          Jakarta to Singapore  Business Class             4   \n",
       "1  February 2024           Phuket to Singapore   Economy Class             5   \n",
       "2  February 2024        Siem Reap to Singapore   Economy Class             1   \n",
       "3  February 2024  Singapore to London Heathrow   Economy Class             5   \n",
       "4  February 2024       Singapore to Phnom Penh   Economy Class             5   \n",
       "\n",
       "   Staff Service  Food & Beverages  Inflight Entertainment  Value For Money  \\\n",
       "0              4                 4                       4                4   \n",
       "1              3                 4                       4                1   \n",
       "2              5                 2                       1                5   \n",
       "3              5                 5                       5                5   \n",
       "4              5                 5                       5                5   \n",
       "\n",
       "   Overall Rating Recommended  \n",
       "0               9         yes  \n",
       "1               3          no  \n",
       "2              10         yes  \n",
       "3              10         yes  \n",
       "4              10         yes  "
      ]
     },
     "execution_count": 3,
     "metadata": {},
     "output_type": "execute_result"
    }
   ],
   "source": [
    "df.head()"
   ]
  },
  {
   "cell_type": "markdown",
   "id": "71699bdf-7aa2-4ba5-9080-001083976edf",
   "metadata": {},
   "source": [
    "## Data Cleaning (excluding 'Title', 'Reviews' and 'Route' for now)\n",
    "The text features 'Title', 'Reviews', and 'Route' will be preprocessed and analysed in a further stage of the project, when Sentiment Analysis with Nature Language Processing (NLP) takes place. The initial stages of the analysis will focus on the resting features.\n",
    "\n",
    "The dataset is checked for missing values and inconsistency in data types and values. "
   ]
  },
  {
   "cell_type": "markdown",
   "id": "91f060a8-608c-46bf-972f-d8df1f8628b5",
   "metadata": {},
   "source": [
    "### Checking missing data"
   ]
  },
  {
   "cell_type": "code",
   "execution_count": 4,
   "id": "23ffe6b4-dd31-40ad-85f9-f5cb6c7f228d",
   "metadata": {},
   "outputs": [
    {
     "data": {
      "text/plain": [
       "Title                     0\n",
       "Name                      0\n",
       "Review Date               0\n",
       "Airline                   0\n",
       "Verified                  0\n",
       "Reviews                   0\n",
       "Type of Traveller         0\n",
       "Month Flown               0\n",
       "Route                     0\n",
       "Class                     0\n",
       "Seat Comfort              0\n",
       "Staff Service             0\n",
       "Food & Beverages          0\n",
       "Inflight Entertainment    0\n",
       "Value For Money           0\n",
       "Overall Rating            0\n",
       "Recommended               0\n",
       "dtype: int64"
      ]
     },
     "execution_count": 4,
     "metadata": {},
     "output_type": "execute_result"
    }
   ],
   "source": [
    "df.isnull().sum()"
   ]
  },
  {
   "cell_type": "markdown",
   "id": "83e96c15-8ea5-4b04-a3fa-98647c66b475",
   "metadata": {},
   "source": [
    "### Column Review\n",
    "After an initial review, the following columns were found to contain valid and expected values and require no further processing: \n",
    "'Review Date', 'Airline', 'Type of Traveller', 'Month Flown', 'Class', 'Seat Comfort', 'Staff Service', 'Food & Beverages', 'Value For Money', 'Overall Rating'."
   ]
  },
  {
   "cell_type": "markdown",
   "id": "948fb09f-0d5f-45cf-986b-5d210aaf05e8",
   "metadata": {},
   "source": [
    "#### 'Verified' Column\n",
    "'Verified' contains three values that are not True or False. Attending to their content, they are converted to the corresponding value. All values are then converted to 0 or 1  to improve performance and clarity of analysis."
   ]
  },
  {
   "cell_type": "code",
   "execution_count": 5,
   "id": "2a641fa0-ef1c-4476-a3a9-11113c7af976",
   "metadata": {},
   "outputs": [
    {
     "data": {
      "text/plain": [
       "Verified\n",
       "True                                                                                                                                                                                                                                           6216\n",
       "False                                                                                                                                                                                                                                          1881\n",
       "*Unverified*                                                                                                                                                                                                                                      1\n",
       "NotVerified                                                                                                                                                                                                                                       1\n",
       "we do appreciate you bringing this matter to our attention. Please accept my apologies for not having met your expectations; I do hope that we can leave you and your family with a more positive impression on your future flights with us       1\n",
       "Name: count, dtype: int64"
      ]
     },
     "execution_count": 5,
     "metadata": {},
     "output_type": "execute_result"
    }
   ],
   "source": [
    "df['Verified'].value_counts()"
   ]
  },
  {
   "cell_type": "code",
   "execution_count": 6,
   "id": "3ecc6514-ea6e-4f57-aa2b-4dbc2d31731e",
   "metadata": {},
   "outputs": [
    {
     "data": {
      "text/plain": [
       "Verified\n",
       "1    6217\n",
       "0    1883\n",
       "Name: count, dtype: int64"
      ]
     },
     "execution_count": 6,
     "metadata": {},
     "output_type": "execute_result"
    }
   ],
   "source": [
    "# Convert different values to 'True' or 'False'\n",
    "df['Verified'] = df['Verified'].replace('NotVerified', 'False')\n",
    "df['Verified'] = df['Verified'].replace('*Unverified*', 'False')\n",
    "df['Verified'] = df['Verified'].replace('we do appreciate you bringing this matter to our attention. Please accept my apologies for not having met your expectations; I do hope that we can leave you and your family with a more positive impression on your future flights with us', 'True')\n",
    "\n",
    "# Convert the values to 0 and 1\n",
    "df['Verified'] = df['Verified'].replace('False', 0)\n",
    "df['Verified'] = df['Verified'].replace('True', 1)\n",
    "\n",
    "df['Verified'].value_counts()"
   ]
  },
  {
   "cell_type": "markdown",
   "id": "15ad7154-65b5-4b6f-b45d-c91047c0a697",
   "metadata": {},
   "source": [
    "#### 'Inflight Entertainment' column\n",
    "All numerical rating columns range from 1 to 5, except for 'Overall Rating' going from 1 to 10. The one rating of 0 found in Inflight Entertainment is converted to 1 for consistency."
   ]
  },
  {
   "cell_type": "code",
   "execution_count": 7,
   "id": "68b8e4de-2260-40e1-9c87-7b499fba9262",
   "metadata": {},
   "outputs": [
    {
     "data": {
      "text/plain": [
       "Inflight Entertainment\n",
       "5    2672\n",
       "4    2284\n",
       "3    1539\n",
       "1     863\n",
       "2     741\n",
       "0       1\n",
       "Name: count, dtype: int64"
      ]
     },
     "execution_count": 7,
     "metadata": {},
     "output_type": "execute_result"
    }
   ],
   "source": [
    "df['Inflight Entertainment'].value_counts()"
   ]
  },
  {
   "cell_type": "code",
   "execution_count": 8,
   "id": "9b80e45a-3833-4575-baad-339be2df9153",
   "metadata": {},
   "outputs": [
    {
     "data": {
      "text/plain": [
       "Inflight Entertainment\n",
       "5    2672\n",
       "4    2284\n",
       "3    1539\n",
       "1     864\n",
       "2     741\n",
       "Name: count, dtype: int64"
      ]
     },
     "execution_count": 8,
     "metadata": {},
     "output_type": "execute_result"
    }
   ],
   "source": [
    "# Replacing 0 for 1\n",
    "df['Inflight Entertainment'] = df['Inflight Entertainment'].replace(0,1)\n",
    "df['Inflight Entertainment'].value_counts()"
   ]
  },
  {
   "cell_type": "markdown",
   "id": "0740f0b8-4ca0-4fda-93de-a6022e45aa59",
   "metadata": {},
   "source": [
    "#### 'Recommended' column\n",
    "Recommended values of 'yes' and 'no' are converted to 0 and 1 for future analysis."
   ]
  },
  {
   "cell_type": "code",
   "execution_count": 9,
   "id": "24006cba-fe4e-49a6-b1da-405cc7215acf",
   "metadata": {},
   "outputs": [
    {
     "data": {
      "text/plain": [
       "Recommended\n",
       "yes    4287\n",
       "no     3813\n",
       "Name: count, dtype: int64"
      ]
     },
     "execution_count": 9,
     "metadata": {},
     "output_type": "execute_result"
    }
   ],
   "source": [
    "df['Recommended'].value_counts()"
   ]
  },
  {
   "cell_type": "code",
   "execution_count": 10,
   "id": "127979a0-945b-4f2c-84a4-cb751528a7d8",
   "metadata": {},
   "outputs": [
    {
     "data": {
      "text/plain": [
       "Recommended\n",
       "1    4287\n",
       "0    3813\n",
       "Name: count, dtype: int64"
      ]
     },
     "execution_count": 10,
     "metadata": {},
     "output_type": "execute_result"
    }
   ],
   "source": [
    "# Replace 'yes' and 'no' with 1 and 0 for easier analysis\n",
    "df['Recommended'] = df['Recommended'].replace('yes',1)\n",
    "df['Recommended'] = df['Recommended'].replace('no',0)\n",
    "\n",
    "df['Recommended'].value_counts()"
   ]
  },
  {
   "cell_type": "markdown",
   "id": "065f3234-f906-426a-a704-7e5a9b469ba2",
   "metadata": {},
   "source": [
    "## Feature Engineering\n",
    "New features are created out of the existing data based on industry knowledge and experience. This new features could help identifying trends and types of customers, adding value to the analysis."
   ]
  },
  {
   "cell_type": "markdown",
   "id": "c3fac5a2-3bc3-4e62-9edc-05e43250d821",
   "metadata": {},
   "source": [
    "### Frequent Reviewer\n",
    "Split the reviewers in four categories based on the amount of verified reviews left. The categories correspond to common airline frequent flyers programs:\n",
    "\n",
    "- 0 (Non frequent or Blue tier) - Customer left only 1 or 0 verified reviews \n",
    "- 1 (Silver Tier)               - Between 2 and 5 verified reviews\n",
    "- 2 (Gold Tier)                 - Between 6 and 15 verified reviews\n",
    "- 3 (Platinum Tier)             - Over 15 verified reviews\n",
    "\n",
    "The distribution of Frequent Reviewers obtained represents approximately the average distribution of Frequent Flyers on a normal flight."
   ]
  },
  {
   "cell_type": "code",
   "execution_count": 11,
   "id": "93b6e0a8-e23c-4deb-88c1-f188534eb99f",
   "metadata": {},
   "outputs": [
    {
     "data": {
      "text/plain": [
       "Frequent Reviewer\n",
       "0    6298\n",
       "1    1214\n",
       "2     383\n",
       "3     205\n",
       "Name: count, dtype: int64"
      ]
     },
     "execution_count": 11,
     "metadata": {},
     "output_type": "execute_result"
    }
   ],
   "source": [
    "# Filter verified reviews\n",
    "verified_reviews = df[df['Verified'] == True]\n",
    "\n",
    "# Count occurrences of each name in the filtered DataFrame\n",
    "verified_name_counts = verified_reviews['Name'].value_counts()\n",
    "\n",
    "# Categorization function\n",
    "def categorize_verified_reviews(count):\n",
    "    if count == 1:\n",
    "        return 0  # Not a frequent reviewer or Blue Tier\n",
    "    elif 2 <= count <= 5:\n",
    "        return 1  # Silver Tier\n",
    "    elif 6 <= count <= 15:\n",
    "        return 2  # Gold Tier\n",
    "    else:\n",
    "        return 3  # Platinum Tier\n",
    "\n",
    "# Create the new feature\n",
    "df['Frequent Reviewer'] = df['Name'].map(verified_name_counts).apply(lambda x: categorize_verified_reviews(x) if pd.notnull(x) else 0)\n",
    "\n",
    "# Drop the Name column\n",
    "df = df.drop(['Name'],axis=1)\n",
    "\n",
    "# Check distribution of the new feature\n",
    "df['Frequent Reviewer'].value_counts()"
   ]
  },
  {
   "cell_type": "markdown",
   "id": "812db914-b0e5-4209-85f7-8da683c4b263",
   "metadata": {},
   "source": [
    "### Flight Month and Flight Year\n",
    "Separating 'Month Flown' into 'Flight Month' and 'Flight Year' to perform individual analysis.\n",
    "\n",
    "Flight Month: This feature can capture seasonal trends, such as differences in travel amount or moods during holiday seasons or off-peak times.\n",
    "\n",
    "Flight Year: This feature can help identify trends over the years and account for significant events like the COVID-19 pandemic, which had a major impact on travel patterns."
   ]
  },
  {
   "cell_type": "code",
   "execution_count": 12,
   "id": "fb8a11d4-574b-4832-a4d9-67bee8879edb",
   "metadata": {},
   "outputs": [
    {
     "data": {
      "text/html": [
       "<div>\n",
       "<style scoped>\n",
       "    .dataframe tbody tr th:only-of-type {\n",
       "        vertical-align: middle;\n",
       "    }\n",
       "\n",
       "    .dataframe tbody tr th {\n",
       "        vertical-align: top;\n",
       "    }\n",
       "\n",
       "    .dataframe thead th {\n",
       "        text-align: right;\n",
       "    }\n",
       "</style>\n",
       "<table border=\"1\" class=\"dataframe\">\n",
       "  <thead>\n",
       "    <tr style=\"text-align: right;\">\n",
       "      <th></th>\n",
       "      <th>Month Flown</th>\n",
       "      <th>Flight Year</th>\n",
       "      <th>Flight Month</th>\n",
       "    </tr>\n",
       "  </thead>\n",
       "  <tbody>\n",
       "    <tr>\n",
       "      <th>0</th>\n",
       "      <td>December 2023</td>\n",
       "      <td>2023</td>\n",
       "      <td>12</td>\n",
       "    </tr>\n",
       "    <tr>\n",
       "      <th>1</th>\n",
       "      <td>February 2024</td>\n",
       "      <td>2024</td>\n",
       "      <td>2</td>\n",
       "    </tr>\n",
       "    <tr>\n",
       "      <th>2</th>\n",
       "      <td>February 2024</td>\n",
       "      <td>2024</td>\n",
       "      <td>2</td>\n",
       "    </tr>\n",
       "    <tr>\n",
       "      <th>3</th>\n",
       "      <td>February 2024</td>\n",
       "      <td>2024</td>\n",
       "      <td>2</td>\n",
       "    </tr>\n",
       "    <tr>\n",
       "      <th>4</th>\n",
       "      <td>February 2024</td>\n",
       "      <td>2024</td>\n",
       "      <td>2</td>\n",
       "    </tr>\n",
       "  </tbody>\n",
       "</table>\n",
       "</div>"
      ],
      "text/plain": [
       "     Month Flown  Flight Year  Flight Month\n",
       "0  December 2023         2023            12\n",
       "1  February 2024         2024             2\n",
       "2  February 2024         2024             2\n",
       "3  February 2024         2024             2\n",
       "4  February 2024         2024             2"
      ]
     },
     "execution_count": 12,
     "metadata": {},
     "output_type": "execute_result"
    }
   ],
   "source": [
    "# Split 'Month Flown' into 'Flight Month' and 'Flight Year'\n",
    "df[['Flight Month', 'Flight Year']] = df['Month Flown'].str.split(' ', expand=True)\n",
    "\n",
    "# Convert to appropriate types\n",
    "df['Flight Year'] = df['Flight Year'].astype(int)\n",
    "df['Flight Month'] = pd.to_datetime(df['Flight Month'], format='%B').dt.month\n",
    "\n",
    "# Verify correct split\n",
    "df[['Month Flown', 'Flight Year','Flight Month']].head()"
   ]
  },
  {
   "cell_type": "code",
   "execution_count": 13,
   "id": "39b487c6-6070-4909-a5bb-92221666ca8c",
   "metadata": {},
   "outputs": [],
   "source": [
    "# Drop the original 'Month Flown' column\n",
    "df = df.drop(['Month Flown'],axis=1)"
   ]
  },
  {
   "cell_type": "markdown",
   "id": "4ef3af4d-ad9f-47d3-9645-7233141e2b0c",
   "metadata": {},
   "source": [
    "### Quick Review\n",
    "Check if the review was written soon after the flight was done. It could be useful for understanding if more immediate reviews correlate with higher or lower ratings. Consider as ‘quick review’ those that were left the same month and year as the flight was done.\n",
    "\n",
    "Limitations:\n",
    "Dataset contains no information about the flight day. Considering a whole month as the time frame, reviews could potentially be innacurately classified leading to inaccuracies and biasing the analysis.\n",
    "\n",
    "The feature could still provide some valuable insights, while keeping in mind the potential bias. "
   ]
  },
  {
   "cell_type": "code",
   "execution_count": 14,
   "id": "ea5a82bc-607f-409a-a6ef-b876a5ea4d3c",
   "metadata": {},
   "outputs": [
    {
     "data": {
      "text/plain": [
       "Quick Review\n",
       "1    5005\n",
       "0    3095\n",
       "Name: count, dtype: int64"
      ]
     },
     "execution_count": 14,
     "metadata": {},
     "output_type": "execute_result"
    }
   ],
   "source": [
    "# Extracting the month and year of the review\n",
    "df['Review Date'] = pd.to_datetime(df['Review Date'])\n",
    "df['Review Year'] = df['Review Date'].dt.year\n",
    "df['Review Month'] = df['Review Date'].dt.month\n",
    "\n",
    "# Creating the new column 'Quick Review'\n",
    "df['Quick Review'] = (df['Review Year'] == df['Flight Year']) & (df['Review Month'] == df['Flight Month'])\n",
    "\n",
    "# Dropping the temporary columns\n",
    "df=df.drop(['Review Year'],axis=1)\n",
    "df=df.drop(['Review Month'],axis=1)\n",
    "\n",
    "# Converting values to 0 and 1 for consistency\n",
    "df['Quick Review'] = df['Quick Review'].map({True:1,False:0})\n",
    "\n",
    "# Checking the new columns\n",
    "df['Quick Review'].value_counts()"
   ]
  },
  {
   "cell_type": "markdown",
   "id": "95be6f93-df03-491a-9e4a-ab4eedfb7c99",
   "metadata": {},
   "source": [
    "## Reorganizing columns"
   ]
  },
  {
   "cell_type": "code",
   "execution_count": 15,
   "id": "731b0ebf-24ae-4953-ae6d-9528ea04741b",
   "metadata": {},
   "outputs": [
    {
     "data": {
      "text/plain": [
       "Index(['Title', 'Review Date', 'Airline', 'Verified', 'Reviews',\n",
       "       'Type of Traveller', 'Route', 'Class', 'Seat Comfort', 'Staff Service',\n",
       "       'Food & Beverages', 'Inflight Entertainment', 'Value For Money',\n",
       "       'Overall Rating', 'Recommended', 'Frequent Reviewer', 'Flight Month',\n",
       "       'Flight Year', 'Quick Review'],\n",
       "      dtype='object')"
      ]
     },
     "execution_count": 15,
     "metadata": {},
     "output_type": "execute_result"
    }
   ],
   "source": [
    "df.columns"
   ]
  },
  {
   "cell_type": "code",
   "execution_count": 16,
   "id": "c97909cc-9dfe-4695-9258-b31ddef1fe94",
   "metadata": {},
   "outputs": [],
   "source": [
    "columns_reordered = ['Title', 'Reviews','Frequent Reviewer', 'Verified', 'Airline', 'Class','Type of Traveller', \n",
    "                    'Route','Review Date','Flight Year', 'Flight Month', 'Quick Review', 'Seat Comfort',\n",
    "                    'Staff Service', 'Food & Beverages', 'Inflight Entertainment',\n",
    "                    'Value For Money', 'Overall Rating', 'Recommended']\n",
    "\n",
    "df =df[columns_reordered]"
   ]
  },
  {
   "cell_type": "markdown",
   "id": "65966033-0df3-4dfb-9c9f-88c649db50ba",
   "metadata": {},
   "source": [
    "## Saving clean dataset"
   ]
  },
  {
   "cell_type": "markdown",
   "id": "8e5e944b-adbb-4e6f-be45-f657dadda83a",
   "metadata": {},
   "source": [
    "The preprocessed dataset is saved as 'airlines_preprocessed.csv' and stored in the 'data/interim' directory within this repository. Notebooks using that dataset contain right paths to load them."
   ]
  },
  {
   "cell_type": "code",
   "execution_count": 17,
   "id": "3d4ca8f2-cf38-4dcc-a3cf-902fd231a153",
   "metadata": {},
   "outputs": [
    {
     "data": {
      "text/html": [
       "<div>\n",
       "<style scoped>\n",
       "    .dataframe tbody tr th:only-of-type {\n",
       "        vertical-align: middle;\n",
       "    }\n",
       "\n",
       "    .dataframe tbody tr th {\n",
       "        vertical-align: top;\n",
       "    }\n",
       "\n",
       "    .dataframe thead th {\n",
       "        text-align: right;\n",
       "    }\n",
       "</style>\n",
       "<table border=\"1\" class=\"dataframe\">\n",
       "  <thead>\n",
       "    <tr style=\"text-align: right;\">\n",
       "      <th></th>\n",
       "      <th>Title</th>\n",
       "      <th>Reviews</th>\n",
       "      <th>Frequent Reviewer</th>\n",
       "      <th>Verified</th>\n",
       "      <th>Airline</th>\n",
       "      <th>Class</th>\n",
       "      <th>Type of Traveller</th>\n",
       "      <th>Route</th>\n",
       "      <th>Review Date</th>\n",
       "      <th>Flight Year</th>\n",
       "      <th>Flight Month</th>\n",
       "      <th>Quick Review</th>\n",
       "      <th>Seat Comfort</th>\n",
       "      <th>Staff Service</th>\n",
       "      <th>Food &amp; Beverages</th>\n",
       "      <th>Inflight Entertainment</th>\n",
       "      <th>Value For Money</th>\n",
       "      <th>Overall Rating</th>\n",
       "      <th>Recommended</th>\n",
       "    </tr>\n",
       "  </thead>\n",
       "  <tbody>\n",
       "    <tr>\n",
       "      <th>0</th>\n",
       "      <td>Flight was amazing</td>\n",
       "      <td>Flight was amazing. The crew onboard this fl...</td>\n",
       "      <td>0</td>\n",
       "      <td>1</td>\n",
       "      <td>Singapore Airlines</td>\n",
       "      <td>Business Class</td>\n",
       "      <td>Solo Leisure</td>\n",
       "      <td>Jakarta to Singapore</td>\n",
       "      <td>2024-03-01</td>\n",
       "      <td>2023</td>\n",
       "      <td>12</td>\n",
       "      <td>0</td>\n",
       "      <td>4</td>\n",
       "      <td>4</td>\n",
       "      <td>4</td>\n",
       "      <td>4</td>\n",
       "      <td>4</td>\n",
       "      <td>9</td>\n",
       "      <td>1</td>\n",
       "    </tr>\n",
       "    <tr>\n",
       "      <th>1</th>\n",
       "      <td>seats on this aircraft are dreadful</td>\n",
       "      <td>Booking an emergency exit seat still meant h...</td>\n",
       "      <td>1</td>\n",
       "      <td>1</td>\n",
       "      <td>Singapore Airlines</td>\n",
       "      <td>Economy Class</td>\n",
       "      <td>Solo Leisure</td>\n",
       "      <td>Phuket to Singapore</td>\n",
       "      <td>2024-02-21</td>\n",
       "      <td>2024</td>\n",
       "      <td>2</td>\n",
       "      <td>1</td>\n",
       "      <td>5</td>\n",
       "      <td>3</td>\n",
       "      <td>4</td>\n",
       "      <td>4</td>\n",
       "      <td>1</td>\n",
       "      <td>3</td>\n",
       "      <td>0</td>\n",
       "    </tr>\n",
       "    <tr>\n",
       "      <th>2</th>\n",
       "      <td>Food was plentiful and tasty</td>\n",
       "      <td>Excellent performance on all fronts. I would...</td>\n",
       "      <td>2</td>\n",
       "      <td>1</td>\n",
       "      <td>Singapore Airlines</td>\n",
       "      <td>Economy Class</td>\n",
       "      <td>Family Leisure</td>\n",
       "      <td>Siem Reap to Singapore</td>\n",
       "      <td>2024-02-20</td>\n",
       "      <td>2024</td>\n",
       "      <td>2</td>\n",
       "      <td>1</td>\n",
       "      <td>1</td>\n",
       "      <td>5</td>\n",
       "      <td>2</td>\n",
       "      <td>1</td>\n",
       "      <td>5</td>\n",
       "      <td>10</td>\n",
       "      <td>1</td>\n",
       "    </tr>\n",
       "    <tr>\n",
       "      <th>3</th>\n",
       "      <td>“how much food was available</td>\n",
       "      <td>Pretty comfortable flight considering I was f...</td>\n",
       "      <td>0</td>\n",
       "      <td>1</td>\n",
       "      <td>Singapore Airlines</td>\n",
       "      <td>Economy Class</td>\n",
       "      <td>Solo Leisure</td>\n",
       "      <td>Singapore to London Heathrow</td>\n",
       "      <td>2024-02-19</td>\n",
       "      <td>2024</td>\n",
       "      <td>2</td>\n",
       "      <td>1</td>\n",
       "      <td>5</td>\n",
       "      <td>5</td>\n",
       "      <td>5</td>\n",
       "      <td>5</td>\n",
       "      <td>5</td>\n",
       "      <td>10</td>\n",
       "      <td>1</td>\n",
       "    </tr>\n",
       "    <tr>\n",
       "      <th>4</th>\n",
       "      <td>“service was consistently good”</td>\n",
       "      <td>The service was consistently good from start ...</td>\n",
       "      <td>0</td>\n",
       "      <td>1</td>\n",
       "      <td>Singapore Airlines</td>\n",
       "      <td>Economy Class</td>\n",
       "      <td>Family Leisure</td>\n",
       "      <td>Singapore to Phnom Penh</td>\n",
       "      <td>2024-02-19</td>\n",
       "      <td>2024</td>\n",
       "      <td>2</td>\n",
       "      <td>1</td>\n",
       "      <td>5</td>\n",
       "      <td>5</td>\n",
       "      <td>5</td>\n",
       "      <td>5</td>\n",
       "      <td>5</td>\n",
       "      <td>10</td>\n",
       "      <td>1</td>\n",
       "    </tr>\n",
       "  </tbody>\n",
       "</table>\n",
       "</div>"
      ],
      "text/plain": [
       "                                  Title  \\\n",
       "0                    Flight was amazing   \n",
       "1  seats on this aircraft are dreadful    \n",
       "2          Food was plentiful and tasty   \n",
       "3          “how much food was available   \n",
       "4       “service was consistently good”   \n",
       "\n",
       "                                             Reviews  Frequent Reviewer  \\\n",
       "0    Flight was amazing. The crew onboard this fl...                  0   \n",
       "1    Booking an emergency exit seat still meant h...                  1   \n",
       "2    Excellent performance on all fronts. I would...                  2   \n",
       "3   Pretty comfortable flight considering I was f...                  0   \n",
       "4   The service was consistently good from start ...                  0   \n",
       "\n",
       "   Verified             Airline           Class Type of Traveller  \\\n",
       "0         1  Singapore Airlines  Business Class      Solo Leisure   \n",
       "1         1  Singapore Airlines   Economy Class      Solo Leisure   \n",
       "2         1  Singapore Airlines   Economy Class    Family Leisure   \n",
       "3         1  Singapore Airlines   Economy Class      Solo Leisure   \n",
       "4         1  Singapore Airlines   Economy Class    Family Leisure   \n",
       "\n",
       "                          Route Review Date  Flight Year  Flight Month  \\\n",
       "0          Jakarta to Singapore  2024-03-01         2023            12   \n",
       "1           Phuket to Singapore  2024-02-21         2024             2   \n",
       "2        Siem Reap to Singapore  2024-02-20         2024             2   \n",
       "3  Singapore to London Heathrow  2024-02-19         2024             2   \n",
       "4       Singapore to Phnom Penh  2024-02-19         2024             2   \n",
       "\n",
       "   Quick Review  Seat Comfort  Staff Service  Food & Beverages  \\\n",
       "0             0             4              4                 4   \n",
       "1             1             5              3                 4   \n",
       "2             1             1              5                 2   \n",
       "3             1             5              5                 5   \n",
       "4             1             5              5                 5   \n",
       "\n",
       "   Inflight Entertainment  Value For Money  Overall Rating  Recommended  \n",
       "0                       4                4               9            1  \n",
       "1                       4                1               3            0  \n",
       "2                       1                5              10            1  \n",
       "3                       5                5              10            1  \n",
       "4                       5                5              10            1  "
      ]
     },
     "execution_count": 17,
     "metadata": {},
     "output_type": "execute_result"
    }
   ],
   "source": [
    "df.head()"
   ]
  }
 ],
 "metadata": {
  "kernelspec": {
   "display_name": "Python 3 (ipykernel)",
   "language": "python",
   "name": "python3"
  },
  "language_info": {
   "codemirror_mode": {
    "name": "ipython",
    "version": 3
   },
   "file_extension": ".py",
   "mimetype": "text/x-python",
   "name": "python",
   "nbconvert_exporter": "python",
   "pygments_lexer": "ipython3",
   "version": "3.11.7"
  }
 },
 "nbformat": 4,
 "nbformat_minor": 5
}
